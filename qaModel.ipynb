{
 "cells": [
  {
   "cell_type": "code",
   "id": "initial_id",
   "metadata": {
    "collapsed": true,
    "ExecuteTime": {
     "end_time": "2024-10-10T07:50:09.556942Z",
     "start_time": "2024-10-10T07:50:05.426569Z"
    }
   },
   "source": [
    "import torch\n",
    "print(torch.cuda.is_available()) "
   ],
   "execution_count": 1,
   "outputs": []
  },
  {
   "metadata": {
    "ExecuteTime": {
     "end_time": "2024-10-10T07:51:19.620494Z",
     "start_time": "2024-10-10T07:51:14.686898Z"
    }
   },
   "cell_type": "code",
   "source": [
    "# coding:utf-8\n",
    "# 导入必备的工具包\n",
    "from langchain.prompts import PromptTemplate\n",
    "from get_vector import *\n",
    "from model import ChatGLM2\n",
    "\n",
    "# 加载FAISS向量库\n",
    "EMBEDDING_MODEL = './m3e-base'\n",
    "embeddings = HuggingFaceEmbeddings(model_name=EMBEDDING_MODEL)\n",
    "db = FAISS.load_local(r'faiss/apiDocs', embeddings, allow_dangerous_deserialization=True)\n",
    "\n",
    "\n",
    "def get_related_content(related_docs):\n",
    "    related_content = []\n",
    "    for doc in related_docs:\n",
    "        related_content.append(doc.page_content.replace('\\n\\n', '\\n'))\n",
    "    return '\\n'.join(related_content)\n",
    "\n",
    "\n",
    "def define_prompt():\n",
    "    question = '调用api，创建一个x=1,y=1,z=1的节点'\n",
    "    docs = db.similarity_search(question, k=1)\n",
    "    # print(f'docs-->{docs}')\n",
    "    related_docs = get_related_content(docs)\n",
    "\n",
    "    # 构建模板\n",
    "    PROMPT_TEMPLATE = \"\"\"\n",
    "           基于以下已知信息，简洁和专业的来回答用户的问题。不允许在答案中添加编造成分。\n",
    "           已知内容:\n",
    "           {context}\n",
    "           问题:\n",
    "           {question}\"\"\"\n",
    "    prompt = PromptTemplate(input_variables=[\"context\", \"question\"],\n",
    "                            template=PROMPT_TEMPLATE)\n",
    "\n",
    "    my_prompt = prompt.format(context=related_docs, question=question)\n",
    "    return my_prompt"
   ],
   "id": "5088ac3df5384f5d",
   "execution_count": 2,
   "outputs": []
  },
  {
   "metadata": {
    "ExecuteTime": {
     "end_time": "2024-10-10T07:54:27.366879Z",
     "start_time": "2024-10-10T07:53:56.946750Z"
    }
   },
   "cell_type": "code",
   "source": [
    "llm = ChatGLM2()\n",
    "llm.load_model(r'C:\\Users\\65197\\Downloads\\chatglm')"
   ],
   "id": "34966daa5c4d5c8",
   "execution_count": 4,
   "outputs": []
  },
  {
   "metadata": {
    "ExecuteTime": {
     "end_time": "2024-10-10T07:59:29.171474Z",
     "start_time": "2024-10-10T07:55:36.516848Z"
    }
   },
   "cell_type": "code",
   "source": [
    "my_prompt = define_prompt()\n",
    "result = llm(my_prompt)\n",
    "print(f'result-->{result}')"
   ],
   "id": "bd09c7e0cb9ce25f",
   "execution_count": 5,
   "outputs": []
  },
  {
   "metadata": {
    "ExecuteTime": {
     "end_time": "2024-10-10T08:01:26.183038Z",
     "start_time": "2024-10-10T08:01:07.542451Z"
    }
   },
   "cell_type": "code",
   "source": [
    "my_prompt = '1+1等于几'\n",
    "result = llm(my_prompt)\n",
    "print(f'result-->{result}')"
   ],
   "id": "55a36698f96620b8",
   "execution_count": 7,
   "outputs": []
  },
  {
   "metadata": {},
   "cell_type": "code",
   "execution_count": null,
   "source": "",
   "id": "62274a87f002786d",
   "outputs": []
  }
 ],
 "metadata": {
  "kernelspec": {
   "display_name": "Python 3",
   "language": "python",
   "name": "python3"
  },
  "language_info": {
   "codemirror_mode": {
    "name": "ipython",
    "version": 2
   },
   "file_extension": ".py",
   "mimetype": "text/x-python",
   "name": "python",
   "nbconvert_exporter": "python",
   "pygments_lexer": "ipython2",
   "version": "2.7.6"
  }
 },
 "nbformat": 4,
 "nbformat_minor": 5
}
