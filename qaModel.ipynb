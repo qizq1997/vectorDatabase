{
 "cells": [
  {
   "cell_type": "code",
   "id": "initial_id",
   "metadata": {
    "collapsed": true,
    "ExecuteTime": {
     "end_time": "2024-10-10T07:50:09.556942Z",
     "start_time": "2024-10-10T07:50:05.426569Z"
    }
   },
   "source": [
    "import torch\n",
    "print(torch.cuda.is_available()) "
   ],
   "outputs": [
    {
     "name": "stdout",
     "output_type": "stream",
     "text": [
      "True\n"
     ]
    }
   ],
   "execution_count": 1
  },
  {
   "metadata": {
    "ExecuteTime": {
     "end_time": "2024-10-10T07:51:19.620494Z",
     "start_time": "2024-10-10T07:51:14.686898Z"
    }
   },
   "cell_type": "code",
   "source": [
    "# coding:utf-8\n",
    "# 导入必备的工具包\n",
    "from langchain.prompts import PromptTemplate\n",
    "from get_vector import *\n",
    "from model import ChatGLM2\n",
    "\n",
    "# 加载FAISS向量库\n",
    "EMBEDDING_MODEL = './m3e-base'\n",
    "embeddings = HuggingFaceEmbeddings(model_name=EMBEDDING_MODEL)\n",
    "db = FAISS.load_local(r'faiss/apiDocs', embeddings, allow_dangerous_deserialization=True)\n",
    "\n",
    "\n",
    "def get_related_content(related_docs):\n",
    "    related_content = []\n",
    "    for doc in related_docs:\n",
    "        related_content.append(doc.page_content.replace('\\n\\n', '\\n'))\n",
    "    return '\\n'.join(related_content)\n",
    "\n",
    "\n",
    "def define_prompt():\n",
    "    question = '调用api，创建一个x=1,y=1,z=1的节点'\n",
    "    docs = db.similarity_search(question, k=1)\n",
    "    # print(f'docs-->{docs}')\n",
    "    related_docs = get_related_content(docs)\n",
    "\n",
    "    # 构建模板\n",
    "    PROMPT_TEMPLATE = \"\"\"\n",
    "           基于以下已知信息，简洁和专业的来回答用户的问题。不允许在答案中添加编造成分。\n",
    "           已知内容:\n",
    "           {context}\n",
    "           问题:\n",
    "           {question}\"\"\"\n",
    "    prompt = PromptTemplate(input_variables=[\"context\", \"question\"],\n",
    "                            template=PROMPT_TEMPLATE)\n",
    "\n",
    "    my_prompt = prompt.format(context=related_docs, question=question)\n",
    "    return my_prompt"
   ],
   "id": "5088ac3df5384f5d",
   "outputs": [
    {
     "name": "stderr",
     "output_type": "stream",
     "text": [
      "C:\\Users\\65197\\AppData\\Local\\Temp\\ipykernel_2168\\2105758863.py:9: LangChainDeprecationWarning: The class `HuggingFaceEmbeddings` was deprecated in LangChain 0.2.2 and will be removed in 1.0. An updated version of the class exists in the :class:`~langchain-huggingface package and should be used instead. To use it run `pip install -U :class:`~langchain-huggingface` and import as `from :class:`~langchain_huggingface import HuggingFaceEmbeddings``.\n",
      "  embeddings = HuggingFaceEmbeddings(model_name=EMBEDDING_MODEL)\n",
      "C:\\Users\\65197\\.conda\\envs\\elite\\Lib\\site-packages\\transformers\\utils\\generic.py:311: FutureWarning: `torch.utils._pytree._register_pytree_node` is deprecated. Please use `torch.utils._pytree.register_pytree_node` instead.\n",
      "  torch.utils._pytree._register_pytree_node(\n",
      "C:\\Users\\65197\\.conda\\envs\\elite\\Lib\\site-packages\\transformers\\utils\\generic.py:311: FutureWarning: `torch.utils._pytree._register_pytree_node` is deprecated. Please use `torch.utils._pytree.register_pytree_node` instead.\n",
      "  torch.utils._pytree._register_pytree_node(\n"
     ]
    }
   ],
   "execution_count": 2
  },
  {
   "metadata": {
    "ExecuteTime": {
     "end_time": "2024-10-10T07:54:27.366879Z",
     "start_time": "2024-10-10T07:53:56.946750Z"
    }
   },
   "cell_type": "code",
   "source": [
    "llm = ChatGLM2()\n",
    "llm.load_model(r'C:\\Users\\65197\\Downloads\\chatglm')"
   ],
   "id": "34966daa5c4d5c8",
   "outputs": [
    {
     "data": {
      "text/plain": [
       "Loading checkpoint shards:   0%|          | 0/8 [00:00<?, ?it/s]"
      ],
      "application/vnd.jupyter.widget-view+json": {
       "version_major": 2,
       "version_minor": 0,
       "model_id": "099538640aef43349bcd48847913c9b0"
      }
     },
     "metadata": {},
     "output_type": "display_data"
    },
    {
     "name": "stderr",
     "output_type": "stream",
     "text": [
      "C:\\Users\\65197\\.conda\\envs\\elite\\Lib\\site-packages\\transformers\\modeling_utils.py:488: FutureWarning: You are using `torch.load` with `weights_only=False` (the current default value), which uses the default pickle module implicitly. It is possible to construct malicious pickle data which will execute arbitrary code during unpickling (See https://github.com/pytorch/pytorch/blob/main/SECURITY.md#untrusted-models for more details). In a future release, the default value for `weights_only` will be flipped to `True`. This limits the functions that could be executed during unpickling. Arbitrary objects will no longer be allowed to be loaded via this mode unless they are explicitly allowlisted by the user via `torch.serialization.add_safe_globals`. We recommend you start setting `weights_only=True` for any use case where you don't have full control of the loaded file. Please open an issue on GitHub for any issues related to this experimental feature.\n",
      "  return torch.load(checkpoint_file, map_location=map_location)\n"
     ]
    }
   ],
   "execution_count": 4
  },
  {
   "metadata": {
    "ExecuteTime": {
     "end_time": "2024-10-10T07:59:29.171474Z",
     "start_time": "2024-10-10T07:55:36.516848Z"
    }
   },
   "cell_type": "code",
   "source": [
    "my_prompt = define_prompt()\n",
    "result = llm(my_prompt)\n",
    "print(f'result-->{result}')"
   ],
   "id": "bd09c7e0cb9ce25f",
   "outputs": [
    {
     "name": "stderr",
     "output_type": "stream",
     "text": [
      "C:\\Users\\65197\\AppData\\Local\\Temp\\ipykernel_2168\\882704842.py:2: LangChainDeprecationWarning: The method `BaseLLM.__call__` was deprecated in langchain-core 0.1.7 and will be removed in 1.0. Use :meth:`~invoke` instead.\n",
      "  result = llm(my_prompt)\n",
      "The dtype of attention mask (torch.int64) is not bool\n"
     ]
    },
    {
     "name": "stdout",
     "output_type": "stream",
     "text": [
      "result-->要调用API创建一个具有x、y和z值的节点，您可以使用以下代码：\n",
      "\n",
      "```python\n",
      "from qtmodel import Node\n",
      "\n",
      "# 创建一个节点\n",
      "node = Node(x=1, y=1, z=1)\n",
      "\n",
      "# 将节点插入到数据库中\n",
      "mdb.add_node(node)\n",
      "```\n",
      "\n",
      "请注意，您需要将x、y和z值替换为实际值，并使用适当的数据类型来定义节点。在示例中，我使用了Python的Node类，该类定义了节点的x、y和z属性。\n"
     ]
    }
   ],
   "execution_count": 5
  },
  {
   "metadata": {
    "ExecuteTime": {
     "end_time": "2024-10-10T08:01:26.183038Z",
     "start_time": "2024-10-10T08:01:07.542451Z"
    }
   },
   "cell_type": "code",
   "source": [
    "my_prompt = '1+1等于几'\n",
    "result = llm(my_prompt)\n",
    "print(f'result-->{result}')"
   ],
   "id": "55a36698f96620b8",
   "outputs": [
    {
     "name": "stdout",
     "output_type": "stream",
     "text": [
      "result-->1+1等于2。\n"
     ]
    }
   ],
   "execution_count": 7
  },
  {
   "metadata": {},
   "cell_type": "code",
   "outputs": [],
   "execution_count": null,
   "source": "",
   "id": "62274a87f002786d"
  }
 ],
 "metadata": {
  "kernelspec": {
   "display_name": "Python 3",
   "language": "python",
   "name": "python3"
  },
  "language_info": {
   "codemirror_mode": {
    "name": "ipython",
    "version": 2
   },
   "file_extension": ".py",
   "mimetype": "text/x-python",
   "name": "python",
   "nbconvert_exporter": "python",
   "pygments_lexer": "ipython2",
   "version": "2.7.6"
  }
 },
 "nbformat": 4,
 "nbformat_minor": 5
}
